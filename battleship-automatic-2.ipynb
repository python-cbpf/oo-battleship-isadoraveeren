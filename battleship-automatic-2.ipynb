{
 "cells": [
  {
   "cell_type": "code",
   "execution_count": 1,
   "metadata": {},
   "outputs": [],
   "source": [
    "import numpy as np\n",
    "\n",
    "from pandas import *"
   ]
  },
  {
   "cell_type": "code",
   "execution_count": 2,
   "metadata": {},
   "outputs": [],
   "source": [
    "def Map(N): #Function to build a 10x10 grid that will play as a board\n",
    "    matrix=[] \n",
    "    for i in range(N): \n",
    "        row=[] \n",
    "        for j in range(N): \n",
    "            row.append(0) \n",
    "        matrix.append(row) \n",
    "    return matrix"
   ]
  },
  {
   "cell_type": "code",
   "execution_count": 3,
   "metadata": {},
   "outputs": [],
   "source": [
    "class Player:\n",
    "    \n",
    "    \n",
    "    def __init__(self,name):\n",
    "        self.name = name \n",
    "        self.MyShips=Map(10) #map where player places their ships\n",
    "        self.MyShots=Map(10) #map where player takes their guesses\n",
    "        self.destroyer=0 #counters for each time player's ships where hit\n",
    "        self.cruiser=0\n",
    "        self.submarine=0\n",
    "        self.battleship=0\n",
    "        self.carrier=0\n",
    "    \n",
    "    def ShowMyShips(self): #show player's ships\n",
    "        self.ShowMyShips = print(DataFrame(self.MyShips))\n",
    "\n",
    "    def ShowMyShots(self): #show player's guesses\n",
    "        self.ShowMyShots = print(DataFrame(self.MyShots))\n",
    "        \n",
    "    def PlaceShip(self,ship,x1,y1,x2,y2,x3 = None,y3 = None,x4 = None,y4 = None,x5 = None,y5 = None): \n",
    "        #player places their ships \n",
    "        if (ship == \"destroyer\" and self.MyShips[x1][y1] == 0 and self.MyShips[x2][y2] == 0): #checks that you don't overlap ships\n",
    "            self.MyShips[x1][y1]=1 #each different ship is marked by a different number on player's board\n",
    "            self.MyShips[x2][y2]=1\n",
    "        elif (ship == \"cruiser\" and self.MyShips[x1][y1] == 0 and self.MyShips[x2][y2] == 0 and self.MyShips[x3][y3] == 0):\n",
    "            self.MyShips[x1][y1]=2\n",
    "            self.MyShips[x2][y2]=2\n",
    "            self.MyShips[x3][y3]=2\n",
    "        elif (ship == \"submarine\" and self.MyShips[x1][y1] == 0 and self.MyShips[x2][y2] == 0 and self.MyShips[x3][y3] == 0):\n",
    "            self.MyShips[x1][y1]=3\n",
    "            self.MyShips[x2][y2]=3\n",
    "            self.MyShips[x3][y3]=3\n",
    "        elif (ship == \"battleship\" and self.MyShips[x1][y1] == 0 and self.MyShips[x2][y2] == 0 and self.MyShips[x3][y3] == 0 and self.MyShips[x4][y4] == 0):\n",
    "            self.MyShips[x1][y1]=4\n",
    "            self.MyShips[x2][y2]=4\n",
    "            self.MyShips[x3][y3]=4\n",
    "            self.MyShips[x4][y4]=4\n",
    "        elif (ship == \"carrier\" and self.MyShips[x1][y1] == 0 and self.MyShips[x2][y2] == 0 and self.MyShips[x3][y3] == 0 and self.MyShips[x4][y4] == 0 and self.MyShips[x5][y5] == 0):\n",
    "            self.MyShips[x1][y1]=5\n",
    "            self.MyShips[x2][y2]=5\n",
    "            self.MyShips[x3][y3]=5\n",
    "            self.MyShips[x4][y4]=5\n",
    "            self.MyShips[x5][y5]=5\n",
    "        else:\n",
    "            print (\"Are you sure you picked the right ship? Make sure they don't overlap!\") #message in case ships overlap or have wrong size\n",
    "        \n",
    "        print(DataFrame(self.MyShips))\n",
    "\n",
    "        \n",
    "    def Shoot(self,oponent): #player takes their guesses\n",
    "        \n",
    "        x = int(input(\"pick x for the shot\"))\n",
    "        y = int(input(\"pick y for the shot\"))\n",
    "        \n",
    "        if self.MyShots[x][y] != 0: #checks that its a brand new guess\n",
    "            print (\"you already hit this spot! choose another target\")\n",
    "            \n",
    "        else:\n",
    "        \n",
    "            if oponent.MyShips[x][y] == 0: #if oponent placed no ship on (x,y), player marks an \"x\" on their guess board\n",
    "                print (\"Splash!\")\n",
    "                self.MyShots[x][y]=\"x\"\n",
    "\n",
    "            if oponent.MyShips[x][y] == 1: #if oponent placed a destroyer on (x,y), player marks the spot with a \"1\".\n",
    "                print (\"you hit my destroyer!\") #each different boat hit is marked with a different number\n",
    "                self.MyShots[x][y]=1\n",
    "                oponent.destroyer=oponent.destroyer+1\n",
    "                if oponent.destroyer == 2:\n",
    "                    print (\"you sunk my destroyer!\") #when the whole ship is hit, it sinks\n",
    "\n",
    "            if oponent.MyShips[x][y] == 2:\n",
    "                print (\"you hit my cruiser!\")\n",
    "                self.MyShots[x][y]=2\n",
    "                oponent.cruiser=oponent.cruiser+1\n",
    "                if oponent.cruiser == 3:\n",
    "                    print (\"you sunk my cruiser!\")\n",
    "\n",
    "            if oponent.MyShips[x][y] == 3:\n",
    "                print (\"you hit my submarine!\")\n",
    "                self.MyShots[x][y]=3\n",
    "                oponent.submarine=oponent.submarine+1\n",
    "                if oponent.submarine == 3:\n",
    "                    print (\"you sunk my submarine!\")\n",
    "\n",
    "            if oponent.MyShips[x][y] == 4:\n",
    "                print (\"you hit my battleship!\")\n",
    "                self.MyShots[x][y]=4\n",
    "                oponent.battleship=oponent.battleship+1\n",
    "                if oponent.battleship == 4:\n",
    "                    print (\"you sunk my battleship!\")\n",
    "\n",
    "            if oponent.MyShips[x][y] == 5:\n",
    "                print (\"you hit my carrier!\")\n",
    "                self.MyShots[x][y]=5\n",
    "                oponent.carrier=oponent.carrier+1\n",
    "                if oponent.carrier == 5:\n",
    "                    print (\"you sunk my carrier!\")\n",
    "\n",
    "            #if (destroyerB == 2 and cruiserB == 3 and submarineB == 3 and battleshipB == 4 and carrierB == 5):\n",
    "             #   print (\"you sinked all my ships! GAME OVER\")\n",
    "        \n",
    "        print(DataFrame(self.MyShots))"
   ]
  },
  {
   "cell_type": "code",
   "execution_count": 35,
   "metadata": {},
   "outputs": [],
   "source": [
    "def main():\n",
    "    # create players\n",
    "    p1 = Player('Alice')\n",
    "    p2 = Player('Bob')\n",
    "    \n",
    "    # place ships\n",
    "    #player1.place_ships()\n",
    "    #player2.place_ships()\n",
    "    \n",
    "    while (p1.destroyer != 2 and p1.cruiser != 3 and p1.submarine != 3 and p1.battleship != 4 and p1.carrier != 5 and p2.destroyer != 2 and p2.cruiser != 3 and p2.submarine != 3 and p2.battleship != 4 and p2.carrier != 5 ) :\n",
    "        # game loop\n",
    "        # player 1: shoot\n",
    "        \n",
    "        # player 2: shoot\n",
    "        "
   ]
  },
  {
   "cell_type": "code",
   "execution_count": 4,
   "metadata": {},
   "outputs": [],
   "source": [
    "p1 = Player('Alice')\n",
    "p2 = Player('Bob')"
   ]
  },
  {
   "cell_type": "code",
   "execution_count": 5,
   "metadata": {},
   "outputs": [
    {
     "name": "stdout",
     "output_type": "stream",
     "text": [
      "   0  1  2  3  4  5  6  7  8  9\n",
      "0  1  1  0  0  0  0  0  0  0  0\n",
      "1  0  0  0  0  0  0  0  0  0  0\n",
      "2  0  0  0  0  0  0  0  0  0  0\n",
      "3  0  0  0  0  0  0  0  0  0  0\n",
      "4  0  0  0  0  0  0  0  0  0  0\n",
      "5  0  0  0  0  0  0  0  0  0  0\n",
      "6  0  0  0  0  0  0  0  0  0  0\n",
      "7  0  0  0  0  0  0  0  0  0  0\n",
      "8  0  0  0  0  0  0  0  0  0  0\n",
      "9  0  0  0  0  0  0  0  0  0  0\n"
     ]
    }
   ],
   "source": [
    "p1.PlaceShip(\"destroyer\",0,0,0,1)"
   ]
  },
  {
   "cell_type": "code",
   "execution_count": 6,
   "metadata": {},
   "outputs": [
    {
     "name": "stdout",
     "output_type": "stream",
     "text": [
      "pick x for the shot0\n",
      "pick y for the shot0\n",
      "you hit my destroyer!\n",
      "   0  1  2  3  4  5  6  7  8  9\n",
      "0  1  0  0  0  0  0  0  0  0  0\n",
      "1  0  0  0  0  0  0  0  0  0  0\n",
      "2  0  0  0  0  0  0  0  0  0  0\n",
      "3  0  0  0  0  0  0  0  0  0  0\n",
      "4  0  0  0  0  0  0  0  0  0  0\n",
      "5  0  0  0  0  0  0  0  0  0  0\n",
      "6  0  0  0  0  0  0  0  0  0  0\n",
      "7  0  0  0  0  0  0  0  0  0  0\n",
      "8  0  0  0  0  0  0  0  0  0  0\n",
      "9  0  0  0  0  0  0  0  0  0  0\n"
     ]
    }
   ],
   "source": [
    "p2.Shoot(p1)"
   ]
  },
  {
   "cell_type": "code",
   "execution_count": null,
   "metadata": {},
   "outputs": [],
   "source": []
  }
 ],
 "metadata": {
  "kernelspec": {
   "display_name": "Python 3",
   "language": "python",
   "name": "python3"
  },
  "language_info": {
   "codemirror_mode": {
    "name": "ipython",
    "version": 3
   },
   "file_extension": ".py",
   "mimetype": "text/x-python",
   "name": "python",
   "nbconvert_exporter": "python",
   "pygments_lexer": "ipython3",
   "version": "3.7.3"
  }
 },
 "nbformat": 4,
 "nbformat_minor": 2
}
